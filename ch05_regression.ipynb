{
 "cells": [
  {
   "cell_type": "markdown",
   "id": "279a6964",
   "metadata": {},
   "source": [
    "## Spark 세션 생성"
   ]
  },
  {
   "cell_type": "code",
   "execution_count": 1,
   "id": "db400b21",
   "metadata": {},
   "outputs": [
    {
     "data": {
      "text/html": [
       "\n",
       "            <div>\n",
       "                <p><b>SparkSession - hive</b></p>\n",
       "                \n",
       "        <div>\n",
       "            <p><b>SparkContext</b></p>\n",
       "\n",
       "            <p><a href=\"http://172.26.18.116:4041\">Spark UI</a></p>\n",
       "\n",
       "            <dl>\n",
       "              <dt>Version</dt>\n",
       "                <dd><code>v3.2.0</code></dd>\n",
       "              <dt>Master</dt>\n",
       "                <dd><code>local[*]</code></dd>\n",
       "              <dt>AppName</dt>\n",
       "                <dd><code>PySparkShell</code></dd>\n",
       "            </dl>\n",
       "        </div>\n",
       "        \n",
       "            </div>\n",
       "        "
      ],
      "text/plain": [
       "<pyspark.sql.session.SparkSession at 0x7f00a36b9e20>"
      ]
     },
     "execution_count": 1,
     "metadata": {},
     "output_type": "execute_result"
    }
   ],
   "source": [
    "from pyspark.sql import SparkSession\n",
    "spark = SparkSession.builder.master('local[*]').appName('ml').getOrCreate()\n",
    "spark"
   ]
  },
  {
   "cell_type": "markdown",
   "id": "c50ce120",
   "metadata": {},
   "source": [
    "## 라이브러리 불러오기"
   ]
  },
  {
   "cell_type": "code",
   "execution_count": 6,
   "id": "baa373b5",
   "metadata": {},
   "outputs": [
    {
     "name": "stdout",
     "output_type": "stream",
     "text": [
      "1.23.4\n",
      "1.5.1\n",
      "3.6.2\n",
      "0.12.1\n"
     ]
    }
   ],
   "source": [
    "import numpy as np\n",
    "import pandas as pd\n",
    "import matplotlib as mpl\n",
    "import seaborn as sns\n",
    "import matplotlib.pyplot as plt\n",
    "\n",
    "print(np.__version__)\n",
    "print(pd.__version__)\n",
    "print(mpl.__version__)\n",
    "print(sns.__version__)"
   ]
  },
  {
   "cell_type": "markdown",
   "id": "d25f495f",
   "metadata": {},
   "source": [
    "## 데이터 불러오기"
   ]
  },
  {
   "cell_type": "code",
   "execution_count": 7,
   "id": "fca4e861",
   "metadata": {},
   "outputs": [
    {
     "name": "stdout",
     "output_type": "stream",
     "text": [
      "+---+---+---+-------+------+---+----+------+--------+-----+\n",
      "|mon|dom|dow|carrier|flight|org|mile|depart|duration|delay|\n",
      "+---+---+---+-------+------+---+----+------+--------+-----+\n",
      "| 11| 20|  6|     US|    19|JFK|2153|  9.48|     351| null|\n",
      "|  0| 22|  2|     UA|  1107|ORD| 316| 16.33|      82|   30|\n",
      "|  2| 20|  4|     UA|   226|SFO| 337|  6.17|      82|   -8|\n",
      "|  9| 13|  1|     AA|   419|ORD|1236| 10.33|     195|   -5|\n",
      "|  4|  2|  5|     AA|   325|ORD| 258|  8.92|      65| null|\n",
      "+---+---+---+-------+------+---+----+------+--------+-----+\n",
      "only showing top 5 rows\n",
      "\n"
     ]
    }
   ],
   "source": [
    "flights = spark.read.csv('data/flights.csv',\n",
    "                        sep=',',\n",
    "                        header=True,\n",
    "                        inferSchema=True,\n",
    "                        nullValue='NA')\n",
    "flights.show(5)"
   ]
  },
  {
   "cell_type": "markdown",
   "id": "2ad148d9",
   "metadata": {},
   "source": [
    "## 머신러닝 주제\n",
    "- 지연시간 예측 \n",
    "    + 종속변수 : delay\n",
    "- 데이터의 행/열 갯수"
   ]
  },
  {
   "cell_type": "code",
   "execution_count": 8,
   "id": "f0fdae1c",
   "metadata": {},
   "outputs": [
    {
     "data": {
      "text/plain": [
       "50000"
      ]
     },
     "execution_count": 8,
     "metadata": {},
     "output_type": "execute_result"
    }
   ],
   "source": [
    "#행\n",
    "flights.count()"
   ]
  },
  {
   "cell_type": "code",
   "execution_count": 10,
   "id": "50436a66",
   "metadata": {},
   "outputs": [
    {
     "data": {
      "text/plain": [
       "10"
      ]
     },
     "execution_count": 10,
     "metadata": {},
     "output_type": "execute_result"
    }
   ],
   "source": [
    "#열\n",
    "len(flights.columns)"
   ]
  },
  {
   "cell_type": "code",
   "execution_count": 11,
   "id": "d17b57d9",
   "metadata": {},
   "outputs": [
    {
     "data": {
      "text/plain": [
       "[('mon', 'int'),\n",
       " ('dom', 'int'),\n",
       " ('dow', 'int'),\n",
       " ('carrier', 'string'),\n",
       " ('flight', 'int'),\n",
       " ('org', 'string'),\n",
       " ('mile', 'int'),\n",
       " ('depart', 'double'),\n",
       " ('duration', 'int'),\n",
       " ('delay', 'int')]"
      ]
     },
     "execution_count": 11,
     "metadata": {},
     "output_type": "execute_result"
    }
   ],
   "source": [
    "# 컬럼 타입\n",
    "flights.dtypes"
   ]
  },
  {
   "cell_type": "markdown",
   "id": "03926f76",
   "metadata": {},
   "source": [
    "## 데이터 전처리 & 피처 엔지니어링\n",
    "- flight 컬럼 삭제"
   ]
  },
  {
   "cell_type": "code",
   "execution_count": 13,
   "id": "b10531bb",
   "metadata": {},
   "outputs": [
    {
     "data": {
      "text/plain": [
       "9"
      ]
     },
     "execution_count": 13,
     "metadata": {},
     "output_type": "execute_result"
    }
   ],
   "source": [
    "flights2 = flights.drop('flight')\n",
    "len(flights2.columns)"
   ]
  },
  {
   "cell_type": "code",
   "execution_count": 14,
   "id": "84c8580c",
   "metadata": {},
   "outputs": [
    {
     "data": {
      "text/plain": [
       "2978"
      ]
     },
     "execution_count": 14,
     "metadata": {},
     "output_type": "execute_result"
    }
   ],
   "source": [
    "flights2.filter('delay IS NULL').count()"
   ]
  },
  {
   "cell_type": "markdown",
   "id": "720b252d",
   "metadata": {},
   "source": [
    "- NA 결측치 삭제"
   ]
  },
  {
   "cell_type": "code",
   "execution_count": 15,
   "id": "fdbf13ec",
   "metadata": {},
   "outputs": [
    {
     "data": {
      "text/plain": [
       "47022"
      ]
     },
     "execution_count": 15,
     "metadata": {},
     "output_type": "execute_result"
    }
   ],
   "source": [
    "flights3 = flights2.filter('delay IS NOT NULL')\n",
    "flights3.count()"
   ]
  },
  {
   "cell_type": "code",
   "execution_count": 17,
   "id": "3ea3b192",
   "metadata": {},
   "outputs": [
    {
     "data": {
      "text/plain": [
       "47022"
      ]
     },
     "execution_count": 17,
     "metadata": {},
     "output_type": "execute_result"
    }
   ],
   "source": [
    "# 결측치가 있는 값을 모두 없애기\n",
    "flights4 = flights3.dropna()\n",
    "flights4.count()"
   ]
  },
  {
   "cell_type": "markdown",
   "id": "8424d0fa",
   "metadata": {},
   "source": [
    "- NA 채우기"
   ]
  },
  {
   "cell_type": "code",
   "execution_count": 19,
   "id": "811d531a",
   "metadata": {},
   "outputs": [
    {
     "name": "stdout",
     "output_type": "stream",
     "text": [
      "+---+---+---+-------+---+----+------+--------+-----+\n",
      "|mon|dom|dow|carrier|org|mile|depart|duration|delay|\n",
      "+---+---+---+-------+---+----+------+--------+-----+\n",
      "| 11| 20|  6|     US|JFK|2153|  9.48|     351|    0|\n",
      "|  0| 22|  2|     UA|ORD| 316| 16.33|      82|   30|\n",
      "|  2| 20|  4|     UA|SFO| 337|  6.17|      82|   -8|\n",
      "|  9| 13|  1|     AA|ORD|1236| 10.33|     195|   -5|\n",
      "|  4|  2|  5|     AA|ORD| 258|  8.92|      65|    0|\n",
      "+---+---+---+-------+---+----+------+--------+-----+\n",
      "only showing top 5 rows\n",
      "\n"
     ]
    }
   ],
   "source": [
    "# 결측치를 0으로 채워넣기\n",
    "flights5 = flights2.fillna({'delay' : 0})\n",
    "flights5.show(5)"
   ]
  },
  {
   "cell_type": "code",
   "execution_count": 20,
   "id": "60a70380",
   "metadata": {},
   "outputs": [
    {
     "data": {
      "text/plain": [
       "50000"
      ]
     },
     "execution_count": 20,
     "metadata": {},
     "output_type": "execute_result"
    }
   ],
   "source": [
    "flights5.count()"
   ]
  },
  {
   "cell_type": "markdown",
   "id": "e77144d7",
   "metadata": {},
   "source": [
    "### 파생변수 만들기\n",
    "- withColumn() 활용해서 새로운 변수를 추가할 것\n",
    "- 참조 : https://spark.apache.org/docs/3.1.3/api/python/reference/api/pyspark.sql.DataFrame.withColumn.html"
   ]
  },
  {
   "cell_type": "code",
   "execution_count": 22,
   "id": "cde2f8f4",
   "metadata": {},
   "outputs": [
    {
     "name": "stdout",
     "output_type": "stream",
     "text": [
      "+---+---+---+-------+---+------+--------+-----+------+\n",
      "|mon|dom|dow|carrier|org|depart|duration|delay|    km|\n",
      "+---+---+---+-------+---+------+--------+-----+------+\n",
      "| 11| 20|  6|     US|JFK|  9.48|     351|    0|3465.0|\n",
      "|  0| 22|  2|     UA|ORD| 16.33|      82|   30| 509.0|\n",
      "|  2| 20|  4|     UA|SFO|  6.17|      82|   -8| 542.0|\n",
      "|  9| 13|  1|     AA|ORD| 10.33|     195|   -5|1989.0|\n",
      "|  4|  2|  5|     AA|ORD|  8.92|      65|    0| 415.0|\n",
      "+---+---+---+-------+---+------+--------+-----+------+\n",
      "only showing top 5 rows\n",
      "\n"
     ]
    }
   ],
   "source": [
    "#df['새로운 파생변수']\n",
    "#mile에서 km로 변경\n",
    "#1마일 = 1.60934\n",
    "from pyspark.sql.functions import round\n",
    "\n",
    "flights5 = flights5.withColumn('km', round(flights5.mile * 1.60934)).drop('mile')\n",
    "flights5.show(5)\n",
    "\n",
    "# 새로운 컬럼명 등록할때\n",
    "#temp = flights5.withColumn('new_column', 1)"
   ]
  },
  {
   "cell_type": "code",
   "execution_count": 23,
   "id": "31789065",
   "metadata": {},
   "outputs": [
    {
     "name": "stdout",
     "output_type": "stream",
     "text": [
      "+---+---+---+-------+---+------+--------+-----+------+-----+\n",
      "|mon|dom|dow|carrier|org|depart|duration|delay|    km|label|\n",
      "+---+---+---+-------+---+------+--------+-----+------+-----+\n",
      "| 11| 20|  6|     US|JFK|  9.48|     351|    0|3465.0|    0|\n",
      "|  0| 22|  2|     UA|ORD| 16.33|      82|   30| 509.0|    1|\n",
      "|  2| 20|  4|     UA|SFO|  6.17|      82|   -8| 542.0|    0|\n",
      "|  9| 13|  1|     AA|ORD| 10.33|     195|   -5|1989.0|    0|\n",
      "|  4|  2|  5|     AA|ORD|  8.92|      65|    0| 415.0|    0|\n",
      "+---+---+---+-------+---+------+--------+-----+------+-----+\n",
      "only showing top 5 rows\n",
      "\n"
     ]
    }
   ],
   "source": [
    "# delay 15 이상이면 1 아니면 0으로 라벨처리함\n",
    "flights5 = flights5.withColumn('label', (flights5.delay >=15).cast('integer'))\n",
    "flights5.show(5)"
   ]
  },
  {
   "cell_type": "markdown",
   "id": "5bd8be39",
   "metadata": {},
   "source": [
    "- 라벨 인코딩\n",
    "    + 참조 : https://spark.apache.org/docs/3.1.3/api/python/reference/api/pyspark.ml.feature.StringIndexer.html?highlight=stringindexer#pyspark.ml.feature.StringIndexer"
   ]
  },
  {
   "cell_type": "code",
   "execution_count": 24,
   "id": "26b7bf63",
   "metadata": {},
   "outputs": [
    {
     "name": "stdout",
     "output_type": "stream",
     "text": [
      "+---+---+---+-------+---+------+--------+-----+------+-----+-------------+\n",
      "|mon|dom|dow|carrier|org|depart|duration|delay|    km|label|carrier_index|\n",
      "+---+---+---+-------+---+------+--------+-----+------+-----+-------------+\n",
      "| 11| 20|  6|     US|JFK|  9.48|     351|    0|3465.0|    0|          6.0|\n",
      "|  0| 22|  2|     UA|ORD| 16.33|      82|   30| 509.0|    1|          0.0|\n",
      "|  2| 20|  4|     UA|SFO|  6.17|      82|   -8| 542.0|    0|          0.0|\n",
      "|  9| 13|  1|     AA|ORD| 10.33|     195|   -5|1989.0|    0|          1.0|\n",
      "|  4|  2|  5|     AA|ORD|  8.92|      65|    0| 415.0|    0|          1.0|\n",
      "+---+---+---+-------+---+------+--------+-----+------+-----+-------------+\n",
      "only showing top 5 rows\n",
      "\n"
     ]
    }
   ],
   "source": [
    "from pyspark.ml.feature import StringIndexer\n",
    "\n",
    "indexer = StringIndexer(inputCol = 'carrier', outputCol = 'carrier_index')\n",
    "indexer_model = indexer.fit(flights5)\n",
    "flights6 = indexer_model.transform(flights5)\n",
    "flights6.show(5)"
   ]
  },
  {
   "cell_type": "code",
   "execution_count": 27,
   "id": "f09750b7",
   "metadata": {},
   "outputs": [
    {
     "name": "stdout",
     "output_type": "stream",
     "text": [
      "+---+---------+\n",
      "|org|org_index|\n",
      "+---+---------+\n",
      "|JFK|      2.0|\n",
      "|ORD|      0.0|\n",
      "|SFO|      1.0|\n",
      "|ORD|      0.0|\n",
      "|ORD|      0.0|\n",
      "+---+---------+\n",
      "only showing top 5 rows\n",
      "\n"
     ]
    }
   ],
   "source": [
    "indexer = StringIndexer(inputCol = 'org', outputCol = 'org_index')\n",
    "indexer_model = indexer.fit(flights6)\n",
    "flights7 = indexer_model.transform(flights6)\n",
    "flights7.select('org', 'org_index').show(5)"
   ]
  },
  {
   "cell_type": "markdown",
   "id": "1c4aa554",
   "metadata": {},
   "source": [
    "- 원핫 인코딩"
   ]
  },
  {
   "cell_type": "code",
   "execution_count": 29,
   "id": "8ce9f5da",
   "metadata": {},
   "outputs": [
    {
     "name": "stdout",
     "output_type": "stream",
     "text": [
      "+---+---+---+-------+---+------+--------+-----+------+-----+-------------+---------+-------------+\n",
      "|mon|dom|dow|carrier|org|depart|duration|delay|    km|label|carrier_index|org_index|    org_dummy|\n",
      "+---+---+---+-------+---+------+--------+-----+------+-----+-------------+---------+-------------+\n",
      "| 11| 20|  6|     US|JFK|  9.48|     351|    0|3465.0|    0|          6.0|      2.0|(7,[2],[1.0])|\n",
      "|  0| 22|  2|     UA|ORD| 16.33|      82|   30| 509.0|    1|          0.0|      0.0|(7,[0],[1.0])|\n",
      "|  2| 20|  4|     UA|SFO|  6.17|      82|   -8| 542.0|    0|          0.0|      1.0|(7,[1],[1.0])|\n",
      "|  9| 13|  1|     AA|ORD| 10.33|     195|   -5|1989.0|    0|          1.0|      0.0|(7,[0],[1.0])|\n",
      "|  4|  2|  5|     AA|ORD|  8.92|      65|    0| 415.0|    0|          1.0|      0.0|(7,[0],[1.0])|\n",
      "+---+---+---+-------+---+------+--------+-----+------+-----+-------------+---------+-------------+\n",
      "only showing top 5 rows\n",
      "\n"
     ]
    }
   ],
   "source": [
    "from pyspark.ml.feature import OneHotEncoder\n",
    "\n",
    "onehot = OneHotEncoder(inputCols = ['org_index'], outputCols = ['org_dummy'])\n",
    "onehot = onehot.fit(flights7)\n",
    "flights8 = onehot.transform(flights7)\n",
    "flights8.show(5)"
   ]
  },
  {
   "cell_type": "code",
   "execution_count": 30,
   "id": "686ff999",
   "metadata": {},
   "outputs": [
    {
     "name": "stdout",
     "output_type": "stream",
     "text": [
      "+---+---------+-------------+\n",
      "|org|org_index|    org_dummy|\n",
      "+---+---------+-------------+\n",
      "|ORD|      0.0|(7,[0],[1.0])|\n",
      "|SFO|      1.0|(7,[1],[1.0])|\n",
      "|JFK|      2.0|(7,[2],[1.0])|\n",
      "|LGA|      3.0|(7,[3],[1.0])|\n",
      "|SJC|      4.0|(7,[4],[1.0])|\n",
      "|SMF|      5.0|(7,[5],[1.0])|\n",
      "|TUS|      6.0|(7,[6],[1.0])|\n",
      "|OGG|      7.0|    (7,[],[])|\n",
      "+---+---------+-------------+\n",
      "\n"
     ]
    }
   ],
   "source": [
    "flights8.select('org', 'org_index', 'org_dummy').distinct().sort('org_index').show()"
   ]
  },
  {
   "cell_type": "markdown",
   "id": "11fccf5e",
   "metadata": {},
   "source": [
    "## 벡터화\n",
    "- DataFrame에서 바로 ML 인풋데이터로 들어가는게 아님"
   ]
  },
  {
   "cell_type": "code",
   "execution_count": 33,
   "id": "bb5458a5",
   "metadata": {},
   "outputs": [
    {
     "name": "stdout",
     "output_type": "stream",
     "text": [
      "+-----------------------------------------+-----+\n",
      "|features                                 |delay|\n",
      "+-----------------------------------------+-----+\n",
      "|[11.0,20.0,6.0,6.0,2.0,3465.0,9.48,351.0]|0    |\n",
      "|[0.0,22.0,2.0,0.0,0.0,509.0,16.33,82.0]  |30   |\n",
      "|[2.0,20.0,4.0,0.0,1.0,542.0,6.17,82.0]   |-8   |\n",
      "|[9.0,13.0,1.0,1.0,0.0,1989.0,10.33,195.0]|-5   |\n",
      "|[4.0,2.0,5.0,1.0,0.0,415.0,8.92,65.0]    |0    |\n",
      "+-----------------------------------------+-----+\n",
      "only showing top 5 rows\n",
      "\n"
     ]
    }
   ],
   "source": [
    "from pyspark.ml.feature import VectorAssembler\n",
    "\n",
    "assembler = VectorAssembler(inputCols = [\n",
    "    'mon', 'dom', 'dow', 'carrier_index','org_index', 'km', 'depart', 'duration'\n",
    "], outputCol='features')\n",
    "\n",
    "flights9 = assembler.transform(flights8)\n",
    "flights9.select('features','delay').show(5, truncate=False)"
   ]
  },
  {
   "cell_type": "markdown",
   "id": "fcf3bccb",
   "metadata": {},
   "source": [
    "## 데이터셋 분리"
   ]
  },
  {
   "cell_type": "code",
   "execution_count": 35,
   "id": "6c73f5f1",
   "metadata": {},
   "outputs": [
    {
     "name": "stdout",
     "output_type": "stream",
     "text": [
      "0.79896\n"
     ]
    }
   ],
   "source": [
    "flights_train, flights_test = flights9.randomSplit([0.8, 0.2], seed = 42)\n",
    "\n",
    "training_ratio = flights_train.count() / flights.count()\n",
    "print(training_ratio)"
   ]
  },
  {
   "cell_type": "markdown",
   "id": "38357846",
   "metadata": {},
   "source": [
    "## 모형 만들기"
   ]
  },
  {
   "cell_type": "code",
   "execution_count": 37,
   "id": "c1421035",
   "metadata": {},
   "outputs": [
    {
     "name": "stderr",
     "output_type": "stream",
     "text": [
      "22/11/09 10:31:18 WARN Instrumentation: [d18db9b0] regParam is zero, which might cause numerical instability and overfitting.\n"
     ]
    },
    {
     "name": "stdout",
     "output_type": "stream",
     "text": [
      "+-----+------------------+\n",
      "|delay|        prediction|\n",
      "+-----+------------------+\n",
      "|   11|34.930302444682454|\n",
      "|   -9|26.059410033714094|\n",
      "|   31| 42.76433603350965|\n",
      "|   39| 35.34143209866805|\n",
      "|   68|34.906640116747695|\n",
      "+-----+------------------+\n",
      "only showing top 5 rows\n",
      "\n"
     ]
    }
   ],
   "source": [
    "from pyspark.ml.regression import LinearRegression\n",
    "lr_model = LinearRegression(labelCol = 'delay').fit(flights_train)\n",
    "\n",
    "predictions = lr_model.transform(flights_test)\n",
    "predictions.select('delay', 'prediction').show(5)"
   ]
  },
  {
   "cell_type": "code",
   "execution_count": 38,
   "id": "7b21a2f7",
   "metadata": {},
   "outputs": [
    {
     "data": {
      "text/plain": [
       "53.532150733253744"
      ]
     },
     "execution_count": 38,
     "metadata": {},
     "output_type": "execute_result"
    }
   ],
   "source": [
    "# RMSE\n",
    "from pyspark.ml.evaluation import RegressionEvaluator\n",
    "RegressionEvaluator(labelCol = 'delay').evaluate(predictions)"
   ]
  },
  {
   "cell_type": "code",
   "execution_count": 39,
   "id": "c2a32fb3",
   "metadata": {},
   "outputs": [
    {
     "data": {
      "text/plain": [
       "4.508734319896046"
      ]
     },
     "execution_count": 39,
     "metadata": {},
     "output_type": "execute_result"
    }
   ],
   "source": [
    "lr_model.intercept"
   ]
  },
  {
   "cell_type": "code",
   "execution_count": 40,
   "id": "6f947199",
   "metadata": {},
   "outputs": [
    {
     "data": {
      "text/plain": [
       "DenseVector([-0.9057, -0.0164, -0.1998, -0.9834, -2.2976, -0.0077, 1.8449, 0.1211])"
      ]
     },
     "execution_count": 40,
     "metadata": {},
     "output_type": "execute_result"
    }
   ],
   "source": [
    "lr_model.coefficients"
   ]
  },
  {
   "cell_type": "markdown",
   "id": "596ddb60",
   "metadata": {},
   "source": [
    "시각화\n",
    "- pandas로 변환 / seaborn & matplotlib\n",
    "    + pandas로 변환 : pandas_df = sample_df.toPandas()\n",
    "    + 막대그래프 작성 : sns.displot(pandas_df)\n",
    "                        plt.show()\n",
    "    "
   ]
  },
  {
   "cell_type": "code",
   "execution_count": null,
   "id": "384e5e8a",
   "metadata": {},
   "outputs": [],
   "source": []
  },
  {
   "cell_type": "code",
   "execution_count": null,
   "id": "ae0c4025",
   "metadata": {},
   "outputs": [],
   "source": []
  }
 ],
 "metadata": {
  "kernelspec": {
   "display_name": "Python 3 (ipykernel)",
   "language": "python",
   "name": "python3"
  },
  "language_info": {
   "codemirror_mode": {
    "name": "ipython",
    "version": 3
   },
   "file_extension": ".py",
   "mimetype": "text/x-python",
   "name": "python",
   "nbconvert_exporter": "python",
   "pygments_lexer": "ipython3",
   "version": "3.8.0"
  }
 },
 "nbformat": 4,
 "nbformat_minor": 5
}
